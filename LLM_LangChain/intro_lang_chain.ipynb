{
 "cells": [
  {
   "cell_type": "markdown",
   "id": "064eeede",
   "metadata": {},
   "source": [
    "### Introdução ao uso de LangChain\n",
    "\n",
    "**Modelos:**\n",
    "\n",
    "- [Documentação LangChain](https://python.langchain.com/docs/integrations/llms/)"
   ]
  },
  {
   "cell_type": "markdown",
   "id": "440c4f42",
   "metadata": {},
   "source": [
    "### Instalação"
   ]
  },
  {
   "cell_type": "code",
   "execution_count": null,
   "id": "41ca88d1",
   "metadata": {},
   "outputs": [],
   "source": []
  }
 ],
 "metadata": {
  "kernelspec": {
   "display_name": "ai_env",
   "language": "python",
   "name": "python3"
  },
  "language_info": {
   "name": "python",
   "version": "3.10.17"
  }
 },
 "nbformat": 4,
 "nbformat_minor": 5
}
