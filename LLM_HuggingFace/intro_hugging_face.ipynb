{
 "cells": [
  {
   "cell_type": "markdown",
   "id": "8d99c54f",
   "metadata": {},
   "source": [
    "## Instalação e configuração\n",
    "\n",
    "É necessário a instalação de algumas bibliotecas essenciais para o desenvolvimento de modelos de aprendizado de máquina e processamento de linguagem natural (NLP):\n",
    "- **Transformers, da Hugging Face:** Oferece uma vasta gama de modelos pré-treinados como BERT, GPT e T5 para tarefas de NLP.\n",
    "- **Einops:** Facilita a manipulação de tensores com uma sintaxe clara, tornando operações complexas mais simples.\n",
    "- **Accelerate, também da HuggingFace:** Ajuda a otimizar o treinamento de modelos em diferentes aceleradores de hardware como GPUs e TPUs.\n",
    "- **BitsAndBytes:** Possibilita a quantização eficiente de modelos grandes, reduzindo o consumo de memória em PyTorch."
   ]
  },
  {
   "cell_type": "code",
   "execution_count": 1,
   "id": "dfcba0b2",
   "metadata": {},
   "outputs": [],
   "source": [
    "# do professor:\n",
    "#!pip install -q transformers==4.48.2 einops accelerate bitsandbytes\n",
    "\n",
    "# Foi necessário instalar cada lib separadamente no ambiente linux com conda\n",
    "# !pip install transformers\n",
    "# !pip install einops\n",
    "# !pip install accelerate\n",
    "# !pip install bitsandbytes"
   ]
  },
  {
   "cell_type": "markdown",
   "id": "b7de76f4",
   "metadata": {},
   "source": [
    "- AutoModelForCausalLM: Uma classe que fornece um modelo de linguagem causal (ou autoregressivo) pré-treinado (por exemplo, GPT-2, GPT-3) que **são adequados para tarefas de geração de texto**.\n",
    "- AutoTokenizer: Uma classe que fornece um tokenizador que corresponde ao modelo. O tokenizador é responsável por converter texto em tokens numéricos que o modelo pode entender.\n",
    "- pipeline: fornece uma interface simples e unificada para várias tarefas de PLN, facilitando a execução de tarefas como geração de texto, classificação e tradução.\n",
    "- BitsAndBytesConfig: Uma classe para configuração de quantização e outras otimizações de baixo nível para melhorar a eficiência computacional."
   ]
  },
  {
   "cell_type": "code",
   "execution_count": 2,
   "id": "91870d8b",
   "metadata": {},
   "outputs": [
    {
     "name": "stderr",
     "output_type": "stream",
     "text": [
      "/home/wolf/anaconda3/envs/spero-env/lib/python3.11/site-packages/tqdm/auto.py:21: TqdmWarning: IProgress not found. Please update jupyter and ipywidgets. See https://ipywidgets.readthedocs.io/en/stable/user_install.html\n",
      "  from .autonotebook import tqdm as notebook_tqdm\n",
      "2025-08-30 16:12:54.860365: I tensorflow/core/util/port.cc:153] oneDNN custom operations are on. You may see slightly different numerical results due to floating-point round-off errors from different computation orders. To turn them off, set the environment variable `TF_ENABLE_ONEDNN_OPTS=0`.\n",
      "2025-08-30 16:12:54.884162: E external/local_xla/xla/stream_executor/cuda/cuda_fft.cc:467] Unable to register cuFFT factory: Attempting to register factory for plugin cuFFT when one has already been registered\n",
      "WARNING: All log messages before absl::InitializeLog() is called are written to STDERR\n",
      "E0000 00:00:1756581174.912734   55537 cuda_dnn.cc:8579] Unable to register cuDNN factory: Attempting to register factory for plugin cuDNN when one has already been registered\n",
      "E0000 00:00:1756581174.921114   55537 cuda_blas.cc:1407] Unable to register cuBLAS factory: Attempting to register factory for plugin cuBLAS when one has already been registered\n",
      "W0000 00:00:1756581174.942079   55537 computation_placer.cc:177] computation placer already registered. Please check linkage and avoid linking the same target more than once.\n",
      "W0000 00:00:1756581174.942109   55537 computation_placer.cc:177] computation placer already registered. Please check linkage and avoid linking the same target more than once.\n",
      "W0000 00:00:1756581174.942110   55537 computation_placer.cc:177] computation placer already registered. Please check linkage and avoid linking the same target more than once.\n",
      "W0000 00:00:1756581174.942112   55537 computation_placer.cc:177] computation placer already registered. Please check linkage and avoid linking the same target more than once.\n",
      "2025-08-30 16:12:54.946786: I tensorflow/core/platform/cpu_feature_guard.cc:210] This TensorFlow binary is optimized to use available CPU instructions in performance-critical operations.\n",
      "To enable the following instructions: AVX2 AVX_VNNI FMA, in other operations, rebuild TensorFlow with the appropriate compiler flags.\n"
     ]
    }
   ],
   "source": [
    "from transformers import AutoModelForCausalLM, AutoTokenizer, pipeline, BitsAndBytesConfig"
   ]
  },
  {
   "cell_type": "code",
   "execution_count": 8,
   "id": "7b66dcc4",
   "metadata": {},
   "outputs": [
    {
     "data": {
      "text/plain": [
       "'cuda:0'"
      ]
     },
     "execution_count": 8,
     "metadata": {},
     "output_type": "execute_result"
    }
   ],
   "source": [
    "import torch\n",
    "import getpass\n",
    "import os\n",
    "from dotenv import load_dotenv\n",
    "\n",
    "# Quando usa-se a palavra \"cuda\" estamos trabalhando com GPU\n",
    "device = \"cuda:0\" if  torch.cuda.is_available() else \"cpu\"\n",
    "device"
   ]
  },
  {
   "cell_type": "markdown",
   "id": "18711f2e",
   "metadata": {},
   "source": [
    "SEED para garantir a reprodutibilidade entre diferentes experimentos e execuções.\n",
    "\n",
    "Ou seja, sempre que o código for executado sempre serão gerados os mesmos resultados."
   ]
  },
  {
   "cell_type": "code",
   "execution_count": 6,
   "id": "f60517b7",
   "metadata": {},
   "outputs": [
    {
     "data": {
      "text/plain": [
       "<torch._C.Generator at 0x7febc699faf0>"
      ]
     },
     "execution_count": 6,
     "metadata": {},
     "output_type": "execute_result"
    }
   ],
   "source": [
    "torch.random.manual_seed(42)"
   ]
  },
  {
   "cell_type": "markdown",
   "id": "2a8edd1f",
   "metadata": {},
   "source": [
    "### Definição do Token da Hugging Face"
   ]
  },
  {
   "cell_type": "code",
   "execution_count": null,
   "id": "84415447",
   "metadata": {},
   "outputs": [],
   "source": [
    "load_dotenv()\n",
    "hf_token = os.getenv(\"HF_TOKEN\")\n",
    "\n",
    "# O getpass também é interessante pois solicita ao usuário digitar uma \"senha\"\n",
    "# getpass.getpass()"
   ]
  },
  {
   "cell_type": "markdown",
   "id": "a8d57669",
   "metadata": {},
   "source": [
    "### Carregando o modelo\n",
    "\n",
    "Iremos utilizar o modelo Phi-3-mini-4k-instruct:\n",
    "- [Acessar modelo Phi-3-mini-4k-instruct no Hugging Face](https://huggingface.co/microsoft/Phi-3-mini-4k-instruct)"
   ]
  }
 ],
 "metadata": {
  "kernelspec": {
   "display_name": "spero-env",
   "language": "python",
   "name": "python3"
  },
  "language_info": {
   "codemirror_mode": {
    "name": "ipython",
    "version": 3
   },
   "file_extension": ".py",
   "mimetype": "text/x-python",
   "name": "python",
   "nbconvert_exporter": "python",
   "pygments_lexer": "ipython3",
   "version": "3.11.11"
  }
 },
 "nbformat": 4,
 "nbformat_minor": 5
}
